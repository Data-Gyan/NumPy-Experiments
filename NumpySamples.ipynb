{
 "cells": [
  {
   "cell_type": "markdown",
   "metadata": {},
   "source": [
    "numpy : Pronunced as 'Num PY'\n"
   ]
  },
  {
   "cell_type": "markdown",
   "metadata": {},
   "source": [
    "\n",
    "It is python array module created for fast computations of n-dimensional data. \n"
   ]
  },
  {
   "cell_type": "markdown",
   "metadata": {},
   "source": [
    "    - Written in C and FORTRAN\n"
   ]
  },
  {
   "cell_type": "markdown",
   "metadata": {},
   "source": [
    "    - Primarily used for numerical computations\n"
   ]
  },
  {
   "cell_type": "code",
   "execution_count": 430,
   "metadata": {},
   "outputs": [],
   "source": [
    "# Import numpy module and give it an alias as 'np'\n",
    "import numpy as np"
   ]
  },
  {
   "cell_type": "code",
   "execution_count": 431,
   "metadata": {},
   "outputs": [
    {
     "name": "stdout",
     "output_type": "stream",
     "text": [
      "Python list object :  [1, 2, 3, 4, 5]\n",
      "Python list object type :  <class 'list'>\n",
      "--------------------------------------\n",
      "Numpy n-d array object :  [1 2 3 4 5]\n",
      "Numpy n-d array object type :  <class 'numpy.ndarray'>\n"
     ]
    }
   ],
   "source": [
    "# Create a numpy array (n-dimensional array of numbers)\n",
    "# Note: Although numpy can work with string array as well ut we are not concerned with that\n",
    "my_py_list = [1,2,3,4,5]\n",
    "my_np_arr = np.array(my_py_list) # or my_np_arr = np.array([1,2,3,4,5])\n",
    "\n",
    "\n",
    "print(\"Python list object : \", my_py_list)\n",
    "print(\"Python list object type : \", type(my_py_list))\n",
    "\n",
    "print(\"--------------------------------------\")\n",
    "\n",
    "print(\"Numpy n-d array object : \", my_np_arr)\n",
    "print(\"Numpy n-d array object type : \", type(my_np_arr))"
   ]
  },
  {
   "cell_type": "code",
   "execution_count": 432,
   "metadata": {},
   "outputs": [
    {
     "name": "stdout",
     "output_type": "stream",
     "text": [
      "[[1 2 3]\n",
      " [4 5 6]]\n",
      "<class 'numpy.ndarray'>\n"
     ]
    },
    {
     "data": {
      "text/plain": [
       "(2, 3)"
      ]
     },
     "execution_count": 432,
     "metadata": {},
     "output_type": "execute_result"
    }
   ],
   "source": [
    "# Creating 2-d array using numpy modules's array\n",
    "my_np_arr_2d = np.array([[1,2,3], [4,5,6]])\n",
    "print(my_np_arr_2d)\n",
    "print(type(my_np_arr_2d))\n",
    "my_np_arr_2d.shape"
   ]
  },
  {
   "cell_type": "code",
   "execution_count": 433,
   "metadata": {},
   "outputs": [
    {
     "name": "stdout",
     "output_type": "stream",
     "text": [
      "[list([1, 2, 3, 3]) list([4, 5, 6]) list([7, 8, 9])]\n",
      "<class 'numpy.ndarray'>\n"
     ]
    },
    {
     "data": {
      "text/plain": [
       "(3,)"
      ]
     },
     "execution_count": 433,
     "metadata": {},
     "output_type": "execute_result"
    }
   ],
   "source": [
    "# if array elements are of variable length, then operation is not supprted on numbers\n",
    "# To continue, element's data type should e converted to oject\n",
    "my_np_arr_2d = np.array([[1,2,3,3], [4,5,6], [7,8,9]], dtype=object)\n",
    "print(my_np_arr_2d)\n",
    "print(type(my_np_arr_2d))\n",
    "my_np_arr_2d.shape"
   ]
  },
  {
   "cell_type": "code",
   "execution_count": 434,
   "metadata": {},
   "outputs": [
    {
     "data": {
      "text/plain": [
       "array([[0., 0., 0.],\n",
       "       [0., 0., 0.]])"
      ]
     },
     "execution_count": 434,
     "metadata": {},
     "output_type": "execute_result"
    }
   ],
   "source": [
    "# Create an array with all '0' in it\n",
    "zero_arr = np.zeros((2,3))\n",
    "zero_arr"
   ]
  },
  {
   "cell_type": "code",
   "execution_count": 435,
   "metadata": {},
   "outputs": [
    {
     "data": {
      "text/plain": [
       "array([[1., 1., 1.],\n",
       "       [1., 1., 1.]])"
      ]
     },
     "execution_count": 435,
     "metadata": {},
     "output_type": "execute_result"
    }
   ],
   "source": [
    "# Create an array with all '1' in it\n",
    "one_arr = np.ones((2,3))\n",
    "one_arr"
   ]
  },
  {
   "cell_type": "code",
   "execution_count": 436,
   "metadata": {},
   "outputs": [
    {
     "data": {
      "text/plain": [
       "array([[1., 0., 0., 0.],\n",
       "       [0., 1., 0., 0.],\n",
       "       [0., 0., 1., 0.],\n",
       "       [0., 0., 0., 1.]])"
      ]
     },
     "execution_count": 436,
     "metadata": {},
     "output_type": "execute_result"
    }
   ],
   "source": [
    "# Create 5X5 identity matrix\n",
    "id_matrix4 = np.identity(4) \n",
    "id_matrix4"
   ]
  },
  {
   "cell_type": "code",
   "execution_count": 437,
   "metadata": {},
   "outputs": [
    {
     "data": {
      "text/plain": [
       "array([ 9, 11, 13, 15, 17, 19, 21, 23, 25, 27])"
      ]
     },
     "execution_count": 437,
     "metadata": {},
     "output_type": "execute_result"
    }
   ],
   "source": [
    "# Generate range with np.arange(start,end,jump)\n",
    "# Note: last element i.e. 'end' is excluded\n",
    "range_arr = np.arange(9,29,2)\n",
    "range_arr"
   ]
  },
  {
   "cell_type": "code",
   "execution_count": 438,
   "metadata": {},
   "outputs": [
    {
     "data": {
      "text/plain": [
       "array([ 1.        ,  2.55555556,  4.11111111,  5.66666667,  7.22222222,\n",
       "        8.77777778, 10.33333333, 11.88888889, 13.44444444, 15.        ])"
      ]
     },
     "execution_count": 438,
     "metadata": {},
     "output_type": "execute_result"
    }
   ],
   "source": [
    "# Linear Spacing (linspace) : Divides a range into equal parts and return an array for values\n",
    "line_space_array = np.linspace(1,15,10)\n",
    "line_space_array"
   ]
  },
  {
   "cell_type": "code",
   "execution_count": 439,
   "metadata": {},
   "outputs": [
    {
     "data": {
      "text/plain": [
       "array([ 1.        ,  2.55555556,  4.11111111,  5.66666667,  7.22222222,\n",
       "        8.77777778, 10.33333333, 11.88888889, 13.44444444, 15.        ])"
      ]
     },
     "execution_count": 439,
     "metadata": {},
     "output_type": "execute_result"
    }
   ],
   "source": [
    "# copy is used so that new oject has fresh memory location. y default it keeps pointing to same old oject\n",
    "\n",
    "ln_sp_copy = line_space_array.copy()\n",
    "ln_sp_copy"
   ]
  },
  {
   "cell_type": "code",
   "execution_count": 440,
   "metadata": {},
   "outputs": [
    {
     "name": "stdout",
     "output_type": "stream",
     "text": [
      "Shape of the array :  (3, 4, 2, 3)\n",
      "Dimensions of the array :  4\n"
     ]
    }
   ],
   "source": [
    "# dimensions of a matrix \n",
    "# a better approach to learn is going from right to left\n",
    "# note how smallest element is clubed to form next dimension\n",
    "myarr = np.array([\n",
    "        [ \n",
    "            [[1,2,3],[1,2,3]],\n",
    "            [[1,2,3],[1,2,3]],\n",
    "            [[1,2,3],[1,2,3]],\n",
    "            [[1,2,3],[1,2,3]]\n",
    "        ],\n",
    "        [ \n",
    "            [[1,2,3],[1,2,3]],\n",
    "            [[1,2,3],[1,2,3]],\n",
    "            [[1,2,3],[1,2,3]],\n",
    "            [[1,2,3],[1,2,3]]\n",
    "        ],\n",
    "        [ \n",
    "            [[1,2,3],[1,2,3]],\n",
    "            [[1,2,3],[1,2,3]],\n",
    "            [[1,2,3],[1,2,3]],\n",
    "            [[1,2,3],[1,2,3]]\n",
    "        ]  \n",
    "    ])\n",
    "print(\"Shape of the array : \", myarr.shape)\n",
    "print(\"Dimensions of the array : \", myarr.ndim)"
   ]
  },
  {
   "cell_type": "code",
   "execution_count": 441,
   "metadata": {},
   "outputs": [
    {
     "data": {
      "text/plain": [
       "72"
      ]
     },
     "execution_count": 441,
     "metadata": {},
     "output_type": "execute_result"
    }
   ],
   "source": [
    "# size denotes number of total elements in the array. Its not concerned about its dimensions\n",
    "myarr.size"
   ]
  },
  {
   "cell_type": "code",
   "execution_count": 442,
   "metadata": {},
   "outputs": [
    {
     "name": "stdout",
     "output_type": "stream",
     "text": [
      "[1 2 3 4 5]\n"
     ]
    }
   ],
   "source": [
    "arr1=np.array([1,2,3,4,5])\n",
    "print(arr1)"
   ]
  },
  {
   "cell_type": "code",
   "execution_count": 443,
   "metadata": {},
   "outputs": [
    {
     "data": {
      "text/plain": [
       "8"
      ]
     },
     "execution_count": 443,
     "metadata": {},
     "output_type": "execute_result"
    }
   ],
   "source": [
    "# Length of one array element in bytes.\n",
    "arr1.itemsize"
   ]
  },
  {
   "cell_type": "code",
   "execution_count": 444,
   "metadata": {},
   "outputs": [
    {
     "data": {
      "text/plain": [
       "dtype('int64')"
      ]
     },
     "execution_count": 444,
     "metadata": {},
     "output_type": "execute_result"
    }
   ],
   "source": [
    "# data type of an individual element in the numpy array\n",
    "arr1.dtype"
   ]
  },
  {
   "cell_type": "code",
   "execution_count": 445,
   "metadata": {},
   "outputs": [
    {
     "data": {
      "text/plain": [
       "array([1., 2., 3., 4., 5.], dtype=float16)"
      ]
     },
     "execution_count": 445,
     "metadata": {},
     "output_type": "execute_result"
    }
   ],
   "source": [
    "# convert dataype of the elements in an array\n",
    "arr1.astype('float')  \n",
    "# OR \n",
    "arr1.astype('float16')"
   ]
  },
  {
   "cell_type": "code",
   "execution_count": 446,
   "metadata": {},
   "outputs": [
    {
     "name": "stdout",
     "output_type": "stream",
     "text": [
      "List memory size = 2800 bytes\n",
      "Array memory size = 800 bytes\n",
      "Python list memory usage is 350.0 percent more than Numpy array having same elements ..!\n"
     ]
    }
   ],
   "source": [
    "# Memory foot-print : comparing python list vs numpy array\n",
    "import sys\n",
    "mylist = range(100)\n",
    "myarray = np.arange(0,100,1)\n",
    "\n",
    "# calculate python list memory footprint\n",
    "mylist_mem = sys.getsizeof(mylist[2]) * 100  # 2 is any random element indez in the list\n",
    "print(\"List memory size = {0} bytes\".format(mylist_mem))\n",
    "\n",
    "# calculate numpy array memory footprint\n",
    "myarray_mem = myarray.itemsize * myarray.size\n",
    "print(\"Array memory size = {0} bytes\".format(myarray_mem))\n",
    "\n",
    "mem_percent = (mylist_mem/myarray_mem) * 100\n",
    "print(\"Python list memory usage is {} percent more than Numpy array having same elements ..!\".format(mem_percent))"
   ]
  },
  {
   "cell_type": "code",
   "execution_count": 447,
   "metadata": {},
   "outputs": [
    {
     "name": "stdout",
     "output_type": "stream",
     "text": [
      "Time taken for python list operations = 22.627209901809692 seconds.\n"
     ]
    }
   ],
   "source": [
    "\n",
    "# Execution time/performance : comparing python list vs numpy array operations for addition\n",
    "import time\n",
    "\n",
    "# python list execution\n",
    "start_time = time.time()\n",
    "plst1 = range(10**8)\n",
    "plst2 = range(50, 10**8+50, 1)\n",
    "additive_arra = [(x+y) for x, y in zip(plst1, plst2)]\n",
    "\n",
    "time_taken_lst = time.time() - start_time\n",
    "print(\"Time taken for python list operations = {} seconds.\".format(time_taken_lst))\n"
   ]
  },
  {
   "cell_type": "code",
   "execution_count": 448,
   "metadata": {},
   "outputs": [
    {
     "name": "stdout",
     "output_type": "stream",
     "text": [
      "Time taken for numpy array operations = 3.5399768352508545 seconds.\n",
      "Time taken by python list as compared to numpy array = 639.1909030728517 percent.\n"
     ]
    }
   ],
   "source": [
    "# numpy array execution for the same operation\n",
    "start_time = time.time()\n",
    "narr1 = np.arange(10**8)\n",
    "narr2 = np.arange(50, 10**8+50, 1)\n",
    "additive_arra = narr1 + narr2\n",
    "time_taken_arr = time.time() - start_time\n",
    "print(\"Time taken for numpy array operations = {} seconds.\".format(time_taken_arr))\n",
    "\n",
    "print(\"Time taken by python list as compared to numpy array = {} percent.\".format(time_taken_lst*100/time_taken_arr))"
   ]
  },
  {
   "cell_type": "code",
   "execution_count": 449,
   "metadata": {},
   "outputs": [
    {
     "name": "stdout",
     "output_type": "stream",
     "text": [
      "Original array :\n",
      " [ 0  1  2  3  4  5  6  7  8  9 10 11 12 13 14 15]\n",
      "\n",
      "\n",
      "Reshaped array :\n",
      " [[[ 0  1]\n",
      "  [ 2  3]]\n",
      "\n",
      " [[ 4  5]\n",
      "  [ 6  7]]\n",
      "\n",
      " [[ 8  9]\n",
      "  [10 11]]\n",
      "\n",
      " [[12 13]\n",
      "  [14 15]]]\n"
     ]
    }
   ],
   "source": [
    "# reshapes numpy array, keeping number of elements same or size same\n",
    "arr = np.arange(16)\n",
    "print(\"Original array :\\n\", arr)\n",
    "\n",
    "arr_reshaped = arr.reshape(4,2,2)\n",
    "print(\"\\n\\nReshaped array :\\n\", arr_reshaped)"
   ]
  },
  {
   "cell_type": "code",
   "execution_count": 450,
   "metadata": {},
   "outputs": [
    {
     "name": "stdout",
     "output_type": "stream",
     "text": [
      "Original array \n",
      " [[[ 0  1]\n",
      "  [ 2  3]]\n",
      "\n",
      " [[ 4  5]\n",
      "  [ 6  7]]\n",
      "\n",
      " [[ 8  9]\n",
      "  [10 11]]\n",
      "\n",
      " [[12 13]\n",
      "  [14 15]]]\n",
      "Value of arr_reshaped[2] is : \n",
      " [[ 8  9]\n",
      " [10 11]]\n",
      "Value of arr_reshaped[2:,0,1] is : \n",
      " [ 9 13]\n"
     ]
    }
   ],
   "source": [
    "# see how index is accesses. \n",
    "# single item is indexing while multiple items access is called slicing\n",
    "print(\"Original array \\n\", arr_reshaped)\n",
    "print(\"Value of arr_reshaped[2] is : \\n\", arr_reshaped[2])\n",
    "print(\"Value of arr_reshaped[2:,0,1] is : \\n\", arr_reshaped[2:,0,1])"
   ]
  },
  {
   "cell_type": "code",
   "execution_count": 451,
   "metadata": {},
   "outputs": [
    {
     "data": {
      "text/plain": [
       "array([ 1,  5,  9, 13])"
      ]
     },
     "execution_count": 451,
     "metadata": {},
     "output_type": "execute_result"
    }
   ],
   "source": [
    "# it can e reshaped again without any issue\n",
    "# Note: Its not inplace edit, hence reassign to the variale\n",
    "arr_reshaped2 = arr_reshaped.reshape(4,4)\n",
    "# Now try to access second column from this\n",
    "arr_reshaped2[:,1]"
   ]
  },
  {
   "cell_type": "code",
   "execution_count": 452,
   "metadata": {},
   "outputs": [
    {
     "name": "stdout",
     "output_type": "stream",
     "text": [
      "Newly reshaped array :\n",
      " [[ 0  1  2  3  4  5  6  7]\n",
      " [ 8  9 10 11 12 13 14 15]]\n",
      "\n",
      "Iterating over array items\n",
      "[0 1 2 3 4 5 6 7]\n",
      "[ 8  9 10 11 12 13 14 15]\n",
      "\n",
      "Iterating over nd-iterator. It will go across dimensions to pick every item\n",
      "0\n",
      "1\n",
      "2\n",
      "3\n",
      "4\n",
      "5\n",
      "6\n",
      "7\n",
      "8\n",
      "9\n",
      "10\n",
      "11\n",
      "12\n",
      "13\n",
      "14\n",
      "15\n"
     ]
    }
   ],
   "source": [
    "# iterating in the numpy array\n",
    "arr_reshaped3 = arr_reshaped.reshape(2,8)\n",
    "print(\"Newly reshaped array :\\n\", arr_reshaped3)\n",
    "print(\"\\nIterating over array items\")\n",
    "for i in arr_reshaped3:\n",
    "    print(i)\n",
    "\n",
    "# however one can iterate over items rather than packed first dimension\n",
    "print(\"\\nIterating over nd-iterator. It will go across dimensions to pick every item\")\n",
    "for i in np.nditer(arr_reshaped3):\n",
    "    print(i)"
   ]
  },
  {
   "cell_type": "markdown",
   "metadata": {},
   "source": [
    "Numpy Operations"
   ]
  },
  {
   "cell_type": "code",
   "execution_count": 453,
   "metadata": {},
   "outputs": [
    {
     "name": "stdout",
     "output_type": "stream",
     "text": [
      "Addition :  [1 3 5 7 9]\n",
      "Subtraction :  [1 1 1 1 1]\n",
      "Vector Multiplication :  [ 0  2  6 12 20]\n",
      "Scalar Multiplication :  [ 3  6  9 12 15]\n",
      "Comparison with scalar :  [False False  True  True  True]\n",
      "Scalar Multiplication :  [ True  True  True  True  True]\n"
     ]
    }
   ],
   "source": [
    "myarr1 = np.array([1,2,3,4,5])\n",
    "myarr2 = np.array([0,1,2,3,4,])\n",
    "\n",
    "# Operations are done onn coressponding elements of the arrays\n",
    "\n",
    "# Addition\n",
    "print(\"Addition : \", myarr1 + myarr2)\n",
    "# Subtraction\n",
    "print(\"Subtraction : \", myarr1 - myarr2)\n",
    "# Vector multiplication\n",
    "print(\"Vector Multiplication : \", myarr1 * myarr2)\n",
    "\n",
    "# Scalar multiplication\n",
    "print(\"Scalar Multiplication : \", myarr1 *3)\n",
    "\n",
    "# Comparison. Return True and FAlse ased on the condition\n",
    "print(\"Comparison with scalar : \", myarr1 > 2)\n",
    "\n",
    "# Vector comparisdon\n",
    "print(\"Scalar Multiplication : \", (myarr1 - 1.1) < myarr2)"
   ]
  },
  {
   "cell_type": "code",
   "execution_count": 454,
   "metadata": {},
   "outputs": [
    {
     "name": "stdout",
     "output_type": "stream",
     "text": [
      "First Matrix : [0 1 2 3 4 5]\n",
      "Second Matrix : [10  9  8  7  6  5]\n",
      "Dot product of the matrices :\n",
      " [[ 7  6  5]\n",
      " [41 36 31]\n",
      " [75 66 57]]\n"
     ]
    }
   ],
   "source": [
    "# Matrix multiplication OR dot-product of 2 matrices\n",
    "myarr3 = np.arange(0,6)\n",
    "myarr4 = np.arange(10, 4, -1)\n",
    "print(\"First Matrix :\", myarr3)\n",
    "print(\"Second Matrix :\", myarr4)\n",
    "# make 3X2 matrix\n",
    "myarr3 = myarr3.reshape(3,2)\n",
    "# make 2X3 matrix\n",
    "myarr4 = myarr4.reshape(2,3)\n",
    "# dot product the matrices\n",
    "myarr5 = myarr3.dot(myarr4)\n",
    "print(\"Dot product of the matrices :\\n\", myarr5)"
   ]
  },
  {
   "cell_type": "code",
   "execution_count": 455,
   "metadata": {},
   "outputs": [
    {
     "name": "stdout",
     "output_type": "stream",
     "text": [
      "Min value : 5\n",
      "Max value : 75\n",
      "Original array : [[ 7  6  5]\n",
      " [41 36 31]\n",
      " [75 66 57]]\n"
     ]
    }
   ],
   "source": [
    "print(\"Min value :\", myarr5.min())\n",
    "print(\"Max value :\", myarr5.max())\n",
    "print(\"Original array :\", myarr5)"
   ]
  },
  {
   "cell_type": "code",
   "execution_count": 456,
   "metadata": {},
   "outputs": [
    {
     "name": "stdout",
     "output_type": "stream",
     "text": [
      "Static 'sin' function : [[ 0.6569866  -0.2794155  -0.95892427]\n",
      " [-0.15862267 -0.99177885 -0.40403765]\n",
      " [-0.38778164 -0.02655115  0.43616476]]\n",
      "Static meadian function : 36.0\n"
     ]
    }
   ],
   "source": [
    "# calling statis function over the array\n",
    "print(\"Static 'sin' function :\", np.sin(myarr5))\n",
    "print(\"Static meadian function :\", np.median(myarr5))"
   ]
  },
  {
   "cell_type": "markdown",
   "metadata": {},
   "source": [
    "In a 2-dimensional NumPy array, the axes are the directions along the rows and columns. Axis 0 is the direction along the rows. Similarly for other directions, axis index will increment.\n",
    "\n",
    "In case of confusion about axis, read the article :\n",
    "https://towardsdatascience.com/understanding-axes-and-dimensions-numpy-pandas-606407a5f950\n"
   ]
  },
  {
   "cell_type": "code",
   "execution_count": 457,
   "metadata": {},
   "outputs": [
    {
     "name": "stdout",
     "output_type": "stream",
     "text": [
      "Array :\n",
      " [[[ 0  1]\n",
      "  [ 2  3]\n",
      "  [ 4  5]]\n",
      "\n",
      " [[ 6  7]\n",
      "  [ 8  9]\n",
      "  [10 11]]]\n",
      "Min Column : [[ 0  2  4]\n",
      " [ 6  8 10]]\n"
     ]
    }
   ],
   "source": [
    "myarr6 = np.arange(0,12).reshape(2,3,2)\n",
    "print(\"Array :\\n\", myarr6)\n",
    "#print(myarr6.sum(axis=0))\n",
    "\n",
    "#print(\"Min Row :\", myarr6.min(axis=0))\n",
    "print(\"Min Column :\", myarr6.min(axis=2))"
   ]
  },
  {
   "cell_type": "code",
   "execution_count": 458,
   "metadata": {},
   "outputs": [
    {
     "name": "stdout",
     "output_type": "stream",
     "text": [
      "Dimensions of a Scalar :  0\n",
      "Dimensions of a Vector :  1\n",
      "Dimensions of a Matrix :  2\n",
      "Dimensions of a 3-D array :  3\n",
      "Dimensions of a 4-D array :  4\n"
     ]
    }
   ],
   "source": [
    "# Dimensions of different types of Data\n",
    "# A Scalar is zero-dimensional data. It has '0' dimensions or 'No Axis'.\n",
    "print(\"Dimensions of a Scalar : \", np.ndim(5))\n",
    "# A Vector is one-dimensional/axis data. It is a collection of Scalars.\n",
    "# Vector has a shape (N,) where N is the number of scalars in it. It has one axis indexed as '0'\n",
    "print(\"Dimensions of a Vector : \", np.ndim([5,2,3]))\n",
    "\n",
    "# A Matrix is an example of two-dimensional data. Matrix is a collection of vectors\n",
    "# and has a shape of (m,n), where m is the number of vectors and n is the number of scalars in each vector.\n",
    "print(\"Dimensions of a Matrix : \", np.ndim(np.arange(0,12).reshape(3,4)))\n",
    "\n",
    "print(\"Dimensions of a 3-D array : \", np.ndim(np.arange(0,12).reshape(2,3,2)))\n",
    "print(\"Dimensions of a 4-D array : \", np.ndim(np.arange(0,12).reshape(2,3,2,1)))\n"
   ]
  },
  {
   "cell_type": "code",
   "execution_count": 459,
   "metadata": {},
   "outputs": [
    {
     "name": "stdout",
     "output_type": "stream",
     "text": [
      "Dimensions : 3\n",
      "Shape :  (2, 2, 3)\n",
      "\n",
      "Sum on axis=0 : [[3 3 3]\n",
      " [7 7 7]]\n",
      "\n",
      "Sum on axis=1 : [[4 4 4]\n",
      " [6 6 6]]\n",
      "\n",
      "Sum on axis=2 : [[ 3  9]\n",
      " [ 6 12]]\n"
     ]
    }
   ],
   "source": [
    "testarr = np.array([[[1,1,1], \n",
    "                     [3,3,3]],\n",
    "                    [[2,2,2],\n",
    "                     [4,4,4]]])\n",
    "print(\"Dimensions :\", np.ndim(testarr))\n",
    "print(\"Shape : \", testarr.shape)\n",
    "# Applying sum function across axis-0 means you are summing all matrices within 3-D array together.\n",
    "print(\"\\nSum on axis=0 :\", testarr.sum(axis=0))\n",
    "# Applying sum function across axis-1 means you are summing all vectors within the matrix (2-D array) together.\n",
    "print(\"\\nSum on axis=1 :\", testarr.sum(axis=1))\n",
    "# Applying sum function across axis-2 means you are summing all Scalars within Vectors (1-D) together.\n",
    "print(\"\\nSum on axis=2 :\", testarr.sum(axis=2))"
   ]
  },
  {
   "cell_type": "code",
   "execution_count": 460,
   "metadata": {},
   "outputs": [
    {
     "data": {
      "text/plain": [
       "array([5, 7, 9])"
      ]
     },
     "execution_count": 460,
     "metadata": {},
     "output_type": "execute_result"
    }
   ],
   "source": [
    "# Two seperate datasets passed together will be treated as a single datastructure\n",
    "data1 = [1,2,3]\n",
    "data2 = [4,5,6]\n",
    "np.sum((data1, data2), axis=0)"
   ]
  },
  {
   "cell_type": "markdown",
   "metadata": {},
   "source": [
    "Some more reshape like functionalities"
   ]
  },
  {
   "cell_type": "code",
   "execution_count": 461,
   "metadata": {},
   "outputs": [
    {
     "name": "stdout",
     "output_type": "stream",
     "text": [
      "Original array : [[[ 1  1  3]\n",
      "  [ 3  2  3]]\n",
      "\n",
      " [[ 9  2  3]\n",
      "  [ 4 11  4]]]\n",
      "\n",
      "Ravelled array : [ 1  1  3  3  2  3  9  2  3  4 11  4]\n"
     ]
    }
   ],
   "source": [
    "testarr = np.array([[[1,1,3], \n",
    "                     [3,2,3]],\n",
    "                    [[9,2,3],\n",
    "                     [4,11,4]]])\n",
    "print(\"Original array :\", testarr)\n",
    "# ravel the n-d array into single dimension. Convert it into vector.\n",
    "print(\"\\nRavelled array :\",testarr.ravel())"
   ]
  },
  {
   "cell_type": "markdown",
   "metadata": {},
   "source": [
    "Need to know the physical significance of Transpose\n",
    "Some details expected"
   ]
  },
  {
   "cell_type": "code",
   "execution_count": 462,
   "metadata": {},
   "outputs": [
    {
     "name": "stdout",
     "output_type": "stream",
     "text": [
      "Transpose array : [[[ 1  9]\n",
      "  [ 3  4]]\n",
      "\n",
      " [[ 1  2]\n",
      "  [ 2 11]]\n",
      "\n",
      " [[ 3  3]\n",
      "  [ 3  4]]]\n"
     ]
    }
   ],
   "source": [
    "# transpose an n-d array\n",
    "print(\"Transpose array :\", testarr.transpose())"
   ]
  },
  {
   "cell_type": "code",
   "execution_count": 463,
   "metadata": {},
   "outputs": [
    {
     "name": "stdout",
     "output_type": "stream",
     "text": [
      "Array1 : [[ 0  1  2]\n",
      " [ 3  4  5]\n",
      " [ 6  7  8]\n",
      " [ 9 10 11]]\n",
      "Array2 : [[13 14 15]\n",
      " [16 17 18]\n",
      " [19 20 21]\n",
      " [22 23 24]]\n",
      "Horizontally stacked : [[ 0  1  2 13 14 15]\n",
      " [ 3  4  5 16 17 18]\n",
      " [ 6  7  8 19 20 21]\n",
      " [ 9 10 11 22 23 24]]\n",
      "Horizontally stacke : [[ 0  1  2]\n",
      " [ 3  4  5]\n",
      " [ 6  7  8]\n",
      " [ 9 10 11]\n",
      " [13 14 15]\n",
      " [16 17 18]\n",
      " [19 20 21]\n",
      " [22 23 24]]\n"
     ]
    }
   ],
   "source": [
    "# Horizontally stacking two arrays\n",
    "arrs1 = np.arange(0,12).reshape(4,3)\n",
    "arrs2 = np.arange(13,25).reshape(4,3)\n",
    "print(\"Array1 :\",arrs1)\n",
    "print(\"Array2 :\",arrs2)\n",
    "print(\"Horizontally stacked :\",np.hstack((arrs1,arrs2)))\n",
    "print(\"Horizontally stacke :\",np.vstack((arrs1,arrs2)))"
   ]
  },
  {
   "cell_type": "code",
   "execution_count": 464,
   "metadata": {},
   "outputs": [
    {
     "name": "stdout",
     "output_type": "stream",
     "text": [
      "[[ 0  1  2 13 14 15]\n",
      " [ 3  4  5 16 17 18]\n",
      " [ 6  7  8 19 20 21]\n",
      " [ 9 10 11 22 23 24]]\n",
      "First array after split : [[ 0  1  2]\n",
      " [ 3  4  5]\n",
      " [ 6  7  8]\n",
      " [ 9 10 11]]\n",
      "Second array after split : [[13 14 15]\n",
      " [16 17 18]\n",
      " [19 20 21]\n",
      " [22 23 24]]\n"
     ]
    }
   ],
   "source": [
    "# Horizontally splitting an array into equal parts\n",
    "arrtosplit = np.hstack((arrs1,arrs2))\n",
    "print(arrtosplit)\n",
    "arrsp1, arrsp2 = np.hsplit(arrtosplit, 2)\n",
    "print(\"First array after split :\",arrsp1)\n",
    "print(\"Second array after split :\",arrsp2)\n"
   ]
  },
  {
   "cell_type": "code",
   "execution_count": 465,
   "metadata": {},
   "outputs": [
    {
     "name": "stdout",
     "output_type": "stream",
     "text": [
      "[[ 0  1  2]\n",
      " [ 3  4  5]\n",
      " [ 6  7  8]\n",
      " [ 9 10 11]\n",
      " [13 14 15]\n",
      " [16 17 18]\n",
      " [19 20 21]\n",
      " [22 23 24]]\n",
      "First array after split : [[ 0  1  2]\n",
      " [ 3  4  5]\n",
      " [ 6  7  8]\n",
      " [ 9 10 11]]\n",
      "Second array after split : [[13 14 15]\n",
      " [16 17 18]\n",
      " [19 20 21]\n",
      " [22 23 24]]\n"
     ]
    }
   ],
   "source": [
    "# Vertical splitting an array into equal parts\n",
    "arrtosplit = np.vstack((arrs1,arrs2))\n",
    "print(arrtosplit)\n",
    "arrsp1, arrsp2 = np.vsplit(arrtosplit, 2)\n",
    "print(\"First array after split :\",arrsp1)\n",
    "print(\"Second array after split :\",arrsp2)"
   ]
  },
  {
   "cell_type": "code",
   "execution_count": 483,
   "metadata": {},
   "outputs": [
    {
     "name": "stdout",
     "output_type": "stream",
     "text": [
      "Original big array : [[ 0  1  2  3]\n",
      " [ 4  5  6  7]\n",
      " [ 8  9 10 11]\n",
      " [12 13 14 15]\n",
      " [16 17 18 19]\n",
      " [20 21 22 23]]\n",
      "\n",
      "Selecting 1,3,5 index rows only :  [[ 4  5  6  7]\n",
      " [12 13 14 15]\n",
      " [20 21 22 23]]\n",
      "\n",
      "Selecting 1,3 index columns only :  [[ 1  3]\n",
      " [ 5  7]\n",
      " [ 9 11]\n",
      " [13 15]\n",
      " [17 19]\n",
      " [21 23]]\n"
     ]
    }
   ],
   "source": [
    "# selecting specific rows or colums of the data from array\n",
    "arrbig = np.arange(0,24).reshape(6,4)\n",
    "print(\"Original big array :\", arrbig)\n",
    "print(\"\\nSelecting 1,3,5 index rows only : \", arrbig[[1,3,5],:])\n",
    "print(\"\\nSelecting 1,3 index columns only : \", arrbig[:,[1,3]])"
   ]
  },
  {
   "cell_type": "code",
   "execution_count": 486,
   "metadata": {},
   "outputs": [
    {
     "name": "stdout",
     "output_type": "stream",
     "text": [
      "Original array : [[94 80  5  1 24]\n",
      " [95 34 73 95 41]\n",
      " [22 61 64 12 55]\n",
      " [84 16 87 75 26]\n",
      " [ 4 27 79 21 45]]\n",
      "\n",
      "The filter to be sapplied is : [[ True  True False False False]\n",
      " [ True False  True  True False]\n",
      " [False  True  True False  True]\n",
      " [ True False  True  True False]\n",
      " [False False  True False False]]\n",
      "Filtered array : [94 80 95 73 95 61 64 55 84 87 75 79]\n",
      "Manipulated array : [[94 80  5  1 24]\n",
      " [95 34 73 95 41]\n",
      " [22 61 64 12 55]\n",
      " [ 0 16 87 75 26]\n",
      " [ 4 27 79 21 45]]\n"
     ]
    }
   ],
   "source": [
    "# indexing using condition or boolean array\n",
    "arr = np.random.randint(low=0, high=100, size=25).reshape(5,5)\n",
    "print(\"Original array :\", arr)\n",
    "print(\"\\nThe filter to be sapplied is :\", arr>50)\n",
    "print(\"Filtered array :\", arr[arr>50])\n",
    "# set all numbers greate than 30 and divisible by 7 numbers to 0\n",
    "arr[(arr>30) & (arr%7==0)]=0\n",
    "print(\"Manipulated array :\", arr)\n"
   ]
  },
  {
   "cell_type": "markdown",
   "metadata": {},
   "source": [
    "# Do some graphics with numpy"
   ]
  },
  {
   "cell_type": "code",
   "execution_count": 499,
   "metadata": {},
   "outputs": [
    {
     "data": {
      "text/plain": [
       "[<matplotlib.lines.Line2D at 0x7fadf217b490>]"
      ]
     },
     "execution_count": 499,
     "metadata": {},
     "output_type": "execute_result"
    },
    {
     "data": {
      "image/png": "[encoded data removed]",
      "text/plain": [
       "<Figure size 640x480 with 1 Axes>"
      ]
     },
     "metadata": {},
     "output_type": "display_data"
    }
   ],
   "source": [
    "from matplotlib import pyplot as plt\n",
    "%matplotlib inline\n",
    "x = np.linspace(-10, 10, 50)\n",
    "y = np.sin(x)\n",
    "plt.plot(x,y)\n",
    "\n"
   ]
  },
  {
   "cell_type": "code",
   "execution_count": 504,
   "metadata": {},
   "outputs": [
    {
     "data": {
      "text/plain": [
       "[<matplotlib.lines.Line2D at 0x7fadf2a91ca0>]"
      ]
     },
     "execution_count": 504,
     "metadata": {},
     "output_type": "execute_result"
    },
    {
     "data": {
      "image/png": "[encoded data removed]",
      "text/plain": [
       "<Figure size 640x480 with 1 Axes>"
      ]
     },
     "metadata": {},
     "output_type": "display_data"
    }
   ],
   "source": [
    "y1 = 5*x**2 + 2*x + 3\n",
    "plt.plot(x,y1)"
   ]
  },
  {
   "cell_type": "markdown",
   "metadata": {},
   "source": [
    "Broadcasting : \n",
    "The operations can be done on arrays of dissimilar shapes with streching arrays is called broadcasting\n",
    "\n",
    "https://numpy.org/doc/stable/user/basics.broadcasting.html"
   ]
  },
  {
   "cell_type": "code",
   "execution_count": 506,
   "metadata": {},
   "outputs": [
    {
     "name": "stdout",
     "output_type": "stream",
     "text": [
      "a1 :  [[0 1 2 3]\n",
      " [4 5 6 7]]\n",
      "a2 :  [[ 8  9 10 11]\n",
      " [12 13 14 15]]\n",
      "a1+a2   : [[ 8 10 12 14]\n",
      " [16 18 20 22]]\n"
     ]
    }
   ],
   "source": [
    "arr1 = np.arange(8).reshape(2,4)\n",
    "arr2 = np.arange(8,16,1).reshape(2,4)\n",
    "print(\"arr1 : \", arr1)\n",
    "print(\"arr2 : \", arr2)\n",
    "print(\"arr1+arr2   :\", arr1+arr2)\n"
   ]
  },
  {
   "cell_type": "code",
   "execution_count": 508,
   "metadata": {},
   "outputs": [
    {
     "name": "stdout",
     "output_type": "stream",
     "text": [
      "arr3 :  [[0 1 2]\n",
      " [3 4 5]\n",
      " [6 7 8]]\n",
      "arr4 :  [1 2 3]\n",
      "arr3+arr4   : [[ 1  3  5]\n",
      " [ 4  6  8]\n",
      " [ 7  9 11]]\n"
     ]
    }
   ],
   "source": [
    "arr3 = np.arange(9).reshape(3,3)\n",
    "arr4 = np.arange(1,4)\n",
    "print(\"arr3 : \", arr3)\n",
    "print(\"arr4 : \", arr4)\n",
    "print(\"arr3+arr4   :\", arr3+arr4)"
   ]
  },
  {
   "cell_type": "markdown",
   "metadata": {},
   "source": [
    "Some more numpy utility functions"
   ]
  },
  {
   "cell_type": "code",
   "execution_count": 524,
   "metadata": {},
   "outputs": [
    {
     "name": "stdout",
     "output_type": "stream",
     "text": [
      "0.417022004702574\n",
      "[7.20324493e+00 1.14374817e-03 3.02332573e+00 1.46755891e+00\n",
      " 9.23385948e-01 1.86260211e+00 3.45560727e+00 3.96767474e+00\n",
      " 5.38816734e+00 4.19194514e+00 6.85219500e+00 2.04452250e+00]\n"
     ]
    },
    {
     "data": {
      "text/plain": [
       "[<matplotlib.lines.Line2D at 0x7fadf327f400>]"
      ]
     },
     "execution_count": 524,
     "metadata": {},
     "output_type": "execute_result"
    },
    {
     "data": {
      "image/png": "[encoded data removed]",
      "text/plain": [
       "<Figure size 640x480 with 1 Axes>"
      ]
     },
     "metadata": {},
     "output_type": "display_data"
    }
   ],
   "source": [
    "# Generate a random number bbetween 0-1\n",
    "np.random.random()\n",
    "# provide a seed to ensure predictabilityin random number generation\n",
    "np.random.seed(1)\n",
    "print(np.random.random())\n",
    "\n",
    "# generates 12 points from the uniform distriution\n",
    "arruni = np.random.uniform(0,10, 12)\n",
    "print(arruni)\n",
    "# draw a plot from these generated numbers\n",
    "x = np.linspace(0,10, 100)\n",
    "y = np.random.uniform(0,10, 100)\n",
    "plt.plot(x,y)"
   ]
  },
  {
   "cell_type": "code",
   "execution_count": 526,
   "metadata": {},
   "outputs": [
    {
     "data": {
      "text/plain": [
       "array([4, 5, 8, 5, 8, 1, 1, 8, 7, 0])"
      ]
     },
     "execution_count": 526,
     "metadata": {},
     "output_type": "execute_result"
    }
   ],
   "source": [
    "# generate 10 random integers between 0-10\n",
    "np.random.randint(0,10,10)"
   ]
  },
  {
   "cell_type": "code",
   "execution_count": 527,
   "metadata": {},
   "outputs": [
    {
     "name": "stdout",
     "output_type": "stream",
     "text": [
      "[3 4 2 0 3 5 1 2 4 3]\n",
      "Index of max value =  5\n",
      "Index of min value =  3\n"
     ]
    }
   ],
   "source": [
    "# argmax function: to return index of the max value and argmin\n",
    "arrind = np.random.randint(0,10,10)\n",
    "print(arrind)\n",
    "print(\"Index of max value = \", np.argmax(arrind))\n",
    "print(\"Index of min value = \", np.argmin(arrind))"
   ]
  },
  {
   "cell_type": "code",
   "execution_count": 540,
   "metadata": {},
   "outputs": [
    {
     "name": "stdout",
     "output_type": "stream",
     "text": [
      "[37 22 91 54 76 12 59 26 76 71]\n"
     ]
    },
    {
     "data": {
      "text/plain": [
       "array([37, -1, 91, -1, -1, -1, 59, -1, -1, 71])"
      ]
     },
     "execution_count": 540,
     "metadata": {},
     "output_type": "execute_result"
    }
   ],
   "source": [
    "# where function: conditionally replace values in an array\n",
    "# for consition to be true, replace with first else with second numberin where function\n",
    "arrwh = np.random.randint(0,100,10)\n",
    "print(arrwh)\n",
    "# even number is replaced by -1, Odd remains as it is\n",
    "arrwh2 = np.where(arrwh%2==0, -1, arrwh)\n",
    "arrwh2"
   ]
  },
  {
   "cell_type": "code",
   "execution_count": 549,
   "metadata": {},
   "outputs": [
    {
     "name": "stdout",
     "output_type": "stream",
     "text": [
      "[ 2 26 28 42 46 58 75 78 89 98]\n"
     ]
    },
    {
     "data": {
      "text/plain": [
       "35.28000000000001"
      ]
     },
     "execution_count": 549,
     "metadata": {},
     "output_type": "execute_result"
    }
   ],
   "source": [
    "# sort the array\n",
    "arrwh = np.random.randint(0,100,10)\n",
    "arrwh = np.sort(arrwh)\n",
    "print(arrwh)\n",
    "\n",
    "# percentile distriution value: \n",
    "# what is the 28 percentile value in the array? \n",
    "np.percentile(arrwh, 28)"
   ]
  }
 ],
 "metadata": {
  "kernelspec": {
   "display_name": "Python 3.9.13 ('envDS')",
   "language": "python",
   "name": "python3"
  },
  "language_info": {
   "codemirror_mode": {
    "name": "ipython",
    "version": 3
   },
   "file_extension": ".py",
   "mimetype": "text/x-python",
   "name": "python",
   "nbconvert_exporter": "python",
   "pygments_lexer": "ipython3",
   "version": "3.9.13"
  },
  "orig_nbformat": 4,
  "vscode": {
   "interpreter": {
    "hash": "870174f0296289a4239be059cab6b8669c98fd2c3506d73c9af4c412fc522f2f"
   }
  }
 },
 "nbformat": 4,
 "nbformat_minor": 2
}
